{
 "cells": [
  {
   "cell_type": "markdown",
   "id": "c0e43ae3",
   "metadata": {},
   "source": [
    "### In-Context Cross-lingual Transfer.\n",
    "Inference example notebook."
   ]
  },
  {
   "cell_type": "code",
   "execution_count": 1,
   "id": "346178a8",
   "metadata": {},
   "outputs": [],
   "source": [
    "#### REMOVE LATER\n",
    "## ## ## ## ## ## ## ## ## ## ## ## ## ## ## ## ## ## ## ## ## ## ## ## ## ## ## ## ## ## \n",
    "'''\n",
    "This cell is needed to make the trainer work in HPC notebooks, if it is not used a weird error is raised.\n",
    "'''\n",
    "import os\n",
    "os.environ[\"MASTER_ADDR\"] = \"localhost\"\n",
    "os.environ[\"MASTER_PORT\"] = \"9997\"  # modify if RuntimeError: Address already in use\n",
    "os.environ[\"RANK\"] = \"0\"\n",
    "os.environ[\"LOCAL_RANK\"] = \"0\"\n",
    "os.environ[\"WORLD_SIZE\"] = \"1\"\n",
    "## ## ## ## ## ## ## ## ## ## ## ## ## ## ## ## ## ## ## ## ## ## ## ## ## ## ## ## ## ## \n",
    "os.environ['CUDA_DEVICE_ORDER']='PCI_BUS_ID'\n",
    "os.environ['CUDA_VISIBLE_DEVICES']='0'"
   ]
  },
  {
   "cell_type": "code",
   "execution_count": null,
   "id": "967269e9",
   "metadata": {},
   "outputs": [],
   "source": [
    "## import libraries\n",
    "\n",
    "from transformers import AutoTokenizer, MT5ForConditionalGeneration, TrainingArguments\n",
    "from peft import PeftModel\n",
    "from datasets import Dataset\n",
    "import numpy as np\n",
    "\n",
    "from src.data_handling import get_class_set, get_kshot_dataset, get_class_objects\n",
    "from src.ic_xlt_utils import create_icl_dataset, run_inference, compute_metrics"
   ]
  },
  {
   "cell_type": "code",
   "execution_count": null,
   "id": "03def00b",
   "metadata": {},
   "outputs": [],
   "source": [
    "## instance model and tokenizer\n",
    "\n",
    "tokenizer = AutoTokenizer.from_pretrained('google/mt5-large')\n",
    "\n",
    "base_model = MT5ForConditionalGeneration.from_pretrained('google/mt5-large')"
   ]
  },
  {
   "cell_type": "markdown",
   "id": "2478c6ad",
   "metadata": {},
   "source": [
    "### Load data\n",
    "Also, create One-Shot adaptation dataset from the training set on the target language."
   ]
  },
  {
   "cell_type": "code",
   "execution_count": null,
   "id": "f9c96ccf",
   "metadata": {},
   "outputs": [],
   "source": [
    "data_dir = 'data/massive'\n",
    "\n",
    "## load datasets of target languages and select one-shot from training data\n",
    "\n",
    "target_languages = ['english','azeri','turkish','swahili']\n",
    "\n",
    "tl_datasets = {}\n",
    "\n",
    "for tl in target_languages:\n",
    "    \n",
    "    tl_datasets[tl] = {\n",
    "        'test': Dataset.load_from_disk('/'.join([data_dir,'test',tl])) ## to evaluate\n",
    "    }\n",
    "    \n",
    "    ## load training to retrieve the one-shot demonstration and reduce to one-shot\n",
    "    \n",
    "    tl_datasets[tl]['train'] = get_kshot_dataset(\n",
    "        dataset = Dataset.load_from_disk('/'.join([data_dir,'train',tl])),\n",
    "        k = 1, # One-Shot per label\n",
    "        seed = 42, # Seed to select shots\n",
    "    )\n",
    "    \n",
    "    tl_datasets[tl]['class_set'],tl_datasets[tl]['lbl2id_class'], _ = get_class_objects(tl_datasets[tl]['train'],tl_datasets[tl]['test'])\n"
   ]
  },
  {
   "cell_type": "markdown",
   "id": "87b71040",
   "metadata": {},
   "source": [
    "### Inference on target languages / IC-XLT\n",
    "\n",
    "In-Context Cross-lingual Transfer evaluated in a given target language.<br>"
   ]
  },
  {
   "cell_type": "code",
   "execution_count": null,
   "id": "b692766b",
   "metadata": {},
   "outputs": [],
   "source": [
    "## load lora trained with ICT\n",
    "\n",
    "path_lora = 'trained_loras/massive/ict_m10/' # or 'trained_loras/acd/ict_m10/' to load the ACD trained model\n",
    "\n",
    "model = PeftModel.from_pretrained(base_model,path_lora) "
   ]
  },
  {
   "cell_type": "code",
   "execution_count": null,
   "id": "8fcbe7bc",
   "metadata": {},
   "outputs": [],
   "source": [
    "## iterate and predict/evaluate over target languages\n",
    "\n",
    "metrics_per_lang = {}\n",
    "\n",
    "for tl in target_languages:\n",
    "    \n",
    "    print(f'Running inference on {tl}')\n",
    "\n",
    "    ## prepend one-shot demonstration in context\n",
    "    icl_dataset_test = create_icl_dataset(dataset_test = tl_datasets[tl]['test'], dataset_train = tl_datasets[tl]['train'])\n",
    "    \n",
    "    ## predict samples\n",
    "    predicted_icxlt = run_inference(\n",
    "                model = model,\n",
    "                tokenizer = tokenizer,\n",
    "                test_texts = icl_dataset_test['text'],\n",
    "                class_set = tl_datasets[tl]['class_set'],\n",
    "            )\n",
    "    \n",
    "    ## evaluate samples\n",
    "    metrics_per_lang[tl] = compute_metrics(\n",
    "        predicted_labels = predicted_icxlt,\n",
    "        truth_labels = tl_datasets[tl]['test']['label'],\n",
    "        class_set = tl_datasets[tl]['class_set'],\n",
    "        lbl2id_class = tl_datasets[tl]['lbl2id_class']\n",
    "    )\n",
    "    \n",
    "## print f1-micro per language\n",
    "for tl in target_languages:\n",
    "    print('{} : {}'.format(tl,metrics_per_lang[tl]['f1_score_micro']))"
   ]
  },
  {
   "cell_type": "markdown",
   "id": "8b168c77",
   "metadata": {},
   "source": [
    "### Inference on target languages / ZS-XLT\n",
    "\n",
    "Zero/Few Cross-lingual Transfer (fine-tuned) evaluated in a given target language.<br>\n",
    "To evaluate 1S/8S-XLT, we just continue fine-tuning the checkpoint with the reduced training dataset."
   ]
  },
  {
   "cell_type": "code",
   "execution_count": null,
   "id": "5fde843d",
   "metadata": {},
   "outputs": [],
   "source": [
    "## load model trained with prompt-based fine-tuning \n",
    "path_lora_pbt = 'trained_loras/massive/pbt/' # or 'trained_loras/acd/pbt/' to load the ACD trained model\n",
    "model = PeftModel.from_pretrained(base_model,path_lora_pbt) "
   ]
  },
  {
   "cell_type": "code",
   "execution_count": null,
   "id": "41af4da2",
   "metadata": {},
   "outputs": [],
   "source": [
    "## iterate and predict/evaluate over target languages\n",
    "\n",
    "metrics_per_lang = {}\n",
    "\n",
    "for tl in target_languages:\n",
    "    \n",
    "    print(f'Running inference on {tl}')\n",
    "\n",
    "    ## predict samples\n",
    "    predicted_zsxlt = run_inference(\n",
    "                model = model,\n",
    "                tokenizer = tokenizer,\n",
    "                test_texts = tl_datasets[tl]['test']['text'],\n",
    "                class_set = tl_datasets[tl]['class_set'],\n",
    "            )\n",
    "    \n",
    "    ## evaluate samples\n",
    "    metrics_per_lang[tl] = compute_metrics(\n",
    "        predicted_labels = predicted_zsxlt,\n",
    "        truth_labels = tl_datasets[tl]['test']['label'],\n",
    "        class_set = tl_datasets[tl]['class_set'],\n",
    "        lbl2id_class = tl_datasets[tl]['lbl2id_class']\n",
    "    )\n",
    "    \n",
    "## print f1-micro per language\n",
    "for tl in target_languages:\n",
    "    print('{} : {}'.format(tl,metrics_per_lang[tl]['f1_score_micro']))"
   ]
  }
 ],
 "metadata": {
  "kernelspec": {
   "display_name": "Python 3 (ipykernel)",
   "language": "python",
   "name": "python3"
  },
  "language_info": {
   "codemirror_mode": {
    "name": "ipython",
    "version": 3
   },
   "file_extension": ".py",
   "mimetype": "text/x-python",
   "name": "python",
   "nbconvert_exporter": "python",
   "pygments_lexer": "ipython3",
   "version": "3.11.4"
  }
 },
 "nbformat": 4,
 "nbformat_minor": 5
}
